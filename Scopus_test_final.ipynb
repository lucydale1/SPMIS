{
 "cells": [
  {
   "cell_type": "markdown",
   "metadata": {},
   "source": [
    "**Process of obtaining & ranking papers:\n",
    "1)Use scopus search API to obtain relevant papers, take the scopus id from here.\n",
    "2)Use abstract retrieval API to obtain relevant metadata by using the obtained scopus ids from step 1.\n",
    "3)Use the metadata to rank the papers based on the ranking algorithm.\n",
    "4)Store these papers in a dictionary."
   ]
  },
  {
   "cell_type": "markdown",
   "metadata": {},
   "source": [
    "To-do:\n",
    "1) Ask group how many articles to return? (Module 1)\n",
    "2) Key is hardcoded\n",
    "2) Ranking algorithm"
   ]
  },
  {
   "cell_type": "markdown",
   "metadata": {},
   "source": [
    "1)Scopus Search API - Used to search for abstracts from Scopus database\n",
    "Resource: http://api.elsevier.com/documentation/SCOPUSSearchAPI.wadl\n",
    "*Create account on Elsevier to get API key\n",
    "\n",
    "*Specifying what data to filter: http://api.elsevier.com/documentation/search/SCOPUSSearchViews.htm\n",
    "\n",
    "*Examples: http://kitchingroup.cheme.cmu.edu/blog/2015/04/03/Getting-data-from-the-Scopus-API/"
   ]
  },
  {
   "cell_type": "code",
   "execution_count": 70,
   "metadata": {
    "collapsed": false
   },
   "outputs": [
    {
     "name": "stdout",
     "output_type": "stream",
     "text": [
      "================================\n",
      "'title: Over-time measurement of triadic closure in coauthorship networks'\n",
      "'publicationDate: 2017-12-01'\n",
      "'Scopus ID: SCOPUS_ID:85016834353'\n",
      "'Citation Count: 0'\n",
      "'Scopus URL: http://api.elsevier.com/content/abstract/scopus_id/85016834353'\n",
      "isbn: Null\n",
      "'Kim J.'\n",
      "publicationName: Null\n",
      "Abstract: Null\n",
      "================================\n",
      "'title: Vulnerability of clustering under node failure in complex networks'\n",
      "'publicationDate: 2017-12-01'\n",
      "'Scopus ID: SCOPUS_ID:85014623213'\n",
      "'Citation Count: 0'\n",
      "'Scopus URL: http://api.elsevier.com/content/abstract/scopus_id/85014623213'\n",
      "isbn: Null\n",
      "'Kuhnle A.'\n",
      "publicationName: Null\n",
      "Abstract: Null\n",
      "================================\n",
      "('title: Data warehouse design approaches from social media: review and '\n",
      " 'comparison')\n",
      "'publicationDate: 2017-12-01'\n",
      "'Scopus ID: SCOPUS_ID:85011841605'\n",
      "'Citation Count: 0'\n",
      "'Scopus URL: http://api.elsevier.com/content/abstract/scopus_id/85011841605'\n",
      "isbn: Null\n",
      "'Moalla I.'\n",
      "publicationName: Null\n",
      "Abstract: Null\n",
      "================================\n",
      "('title: A trust-based collaborative access control model with policy '\n",
      " 'aggregation for online social networks')\n",
      "'publicationDate: 2017-12-01'\n",
      "'Scopus ID: SCOPUS_ID:85013287860'\n",
      "'Citation Count: 0'\n",
      "'Scopus URL: http://api.elsevier.com/content/abstract/scopus_id/85013287860'\n",
      "isbn: Null\n",
      "'Rathore N.'\n",
      "publicationName: Null\n",
      "Abstract: Null\n",
      "================================\n",
      "'title: Meaningful communities detection in medias network'\n",
      "'publicationDate: 2017-12-01'\n",
      "'Scopus ID: SCOPUS_ID:85017219515'\n",
      "'Citation Count: 0'\n",
      "'Scopus URL: http://api.elsevier.com/content/abstract/scopus_id/85017219515'\n",
      "isbn: Null\n",
      "'Chaabani Y.'\n",
      "publicationName: Null\n",
      "Abstract: Null\n",
      "======================================\n",
      "List of Scopus IDs:\n",
      "\n",
      "['SCOPUS_ID:85016834353', 'SCOPUS_ID:85014623213', 'SCOPUS_ID:85011841605', 'SCOPUS_ID:85013287860', 'SCOPUS_ID:85017219515']\n"
     ]
    }
   ],
   "source": [
    "import requests\n",
    "import json\n",
    "from pprint import pprint\n",
    "\n",
    "API_KEY = \"1b1115545b64df3c0cefc15bb7baff8b\"\n",
    "#API key temp. hardcoded, can change later.\n",
    "#Change 'count' in 'resp' in order to change num of articles returned.\n",
    "resp = requests.get(\"http://api.elsevier.com/content/search/scopus?query=SRCTITLE(networks) \\\n",
    "                    &field=dc:identifier,prism:isbn,dc:title,citedby-count,prism:coverDate,dc:creator, \\\n",
    "                    prism:publicationName, dc:description&count=5\",\n",
    "                    headers={'Accept':'application/json', 'X-ELS-APIKey': API_KEY})\n",
    "\n",
    "results = resp.json()\n",
    "\n",
    "Scopus_ids = [] #List of scopus_ids, actual data needed\n",
    "\n",
    "#Certain fields null, need to handle errors properly\n",
    "\n",
    "#For printing purposes only(to see articles fetched)\n",
    "for r in results['search-results']['entry']:\n",
    "    print(\"================================\")\n",
    "    pprint('title: ' + str(r['dc:title']))\n",
    "    pprint('publicationDate: ' + str(r['prism:coverDate']))\n",
    "    pprint('Scopus ID: ' + str(r['dc:identifier'])) #Scopus ID, use with Abstract Retrieval API. (refer below)\n",
    "    pprint('Citation Count: ' + str(r['citedby-count']))\n",
    "    pprint('Scopus URL: ' + str(r['prism:url'])) \n",
    "    \n",
    "    try:\n",
    "        pprint(str(r['prism:isbn']))\n",
    "    except:\n",
    "        print(\"isbn: Null\")\n",
    "    try:\n",
    "        pprint(str(r['dc:creator']))\n",
    "    except:\n",
    "        print(\"creator: Null\")\n",
    "    \n",
    "    try:\n",
    "        pprint(str(r['prism:publicationName']))\n",
    "    except:\n",
    "        print(\"publicationName: Null\")\n",
    "    \n",
    "    try:\n",
    "        pprint(str(r['dc:description']))\n",
    "    except:\n",
    "        print(\"Abstract: Null\")\n",
    "    \n",
    "    Scopus_ids.append(str(r['dc:identifier']))\n",
    "\n",
    "print('======================================')\n",
    "print(\"List of Scopus IDs:\\n\")\n",
    "print(Scopus_ids)"
   ]
  },
  {
   "cell_type": "markdown",
   "metadata": {},
   "source": [
    "2)Abstract Retrieval API - Used to retrieve a Scopus abstract document using a Scopus ID/Identifier.\n",
    "\n",
    "Resource: http://api.elsevier.com/documentation/AbstractRetrievalAPI.wadl\n",
    "Examples:http://kitchingroup.cheme.cmu.edu/blog/2015/04/03/Getting-data-from-the-Scopus-API/\n",
    "\n",
    "**Metadata list index: (use this to extract metadata for ranking use)\n",
    "0-authors (multiple authors are seperated by '+'s)\n",
    "1-title\n",
    "2-publication name\n",
    "3-volume\n",
    "4-page range or article number\n",
    "5-publication date\n",
    "6-abstract\n",
    "7-doi\n",
    "8-citation count"
   ]
  },
  {
   "cell_type": "code",
   "execution_count": 74,
   "metadata": {
    "collapsed": false
   },
   "outputs": [
    {
     "name": "stdout",
     "output_type": "stream",
     "text": [
      "['Kuhnle A. + Nguyen N.P. + Dinh T.N. + Thai M.T.', 'Vulnerability of clustering under node failure in complex networks', 'Social Network Analysis and Mining', '7', '8', '(2017-12-01)', 'Abstract: © 2017, Springer-Verlag Wien.Robustness in response to unexpected events is always desirable for real-world networks. To improve the robustness of any networked system, it is important to analyze vulnerability to external perturbation such as random failures or adversarial attacks occurring to elements of the network. In this paper, we study an emerging problem in assessing the robustness of complex networks: the vulnerability of the clustering of the network to the failure of network elements. Specifically, we identify vertices whose failures will critically damage the network by degrading its clustering, evaluated through the average clustering coefficient. This problem is important because any significant change made to the clustering, resulting from element-wise failures, could degrade network performance such as the ability for information to propagate in a social network. We formulate this vulnerability analysis as an optimization problem, prove its NP-completeness and non-monotonicity, and offer two algorithms to identify the vertices most important to clustering. Finally, we conduct comprehensive experiments in synthesized social networks generated by various well-known models as well as traces of real social networks. The empirical results over other competitive strategies show the efficacy of our proposed algorithms.', 'doi:10.1007/s13278-017-0426-5', '0']\n"
     ]
    }
   ],
   "source": [
    "import requests\n",
    "import json\n",
    "from pprint import pprint\n",
    "\n",
    "API_KEY = \"1b1115545b64df3c0cefc15bb7baff8b\" #hardcoded\n",
    "\n",
    "#Used to obtain an article's metadata.\n",
    "#Must supply article's Scopus_ID as input argument\n",
    "def get_article_info(SCOPUS_ID):\n",
    "    \n",
    "    #Define what data should be obtained from API\n",
    "    url = \"http://api.elsevier.com/content/abstract/scopus_id/\" + SCOPUS_ID + \"?field=authors,\"+\\\n",
    "    \"title,publicationName,volume,issueIdentifier,prism:pageRange,coverDate,\"+\\\n",
    "    \"article-number,doi,citedby-count,prism:aggregationType,description\"\n",
    "\n",
    "    resp = requests.get(url,headers={'Accept':'application/json',\n",
    "                                     'X-ELS-APIKey': API_KEY})\n",
    "\n",
    "    results = json.loads(resp.text)\n",
    "    #'''\n",
    "    #Formatting the data into list\n",
    "    fstring = '{authors}spl*{title}spl*{journal}spl*{volume}spl*{articlenum}spl*({date})spl*Abstract: {description}spl*{doi}spl*{cites}'\n",
    "    metadata = fstring.format(authors=' + '.join([au['ce:indexed-name'] for au in results['abstracts-retrieval-response']['authors']['author']]),\n",
    "                          title=results['abstracts-retrieval-response']['coredata']['dc:title'],\n",
    "                          journal=results['abstracts-retrieval-response']['coredata']['prism:publicationName'],\n",
    "                          volume=results['abstracts-retrieval-response']['coredata']['prism:volume'],\n",
    "                          articlenum=(results['abstracts-retrieval-response']['coredata'].get('prism:pageRange') or\n",
    "                              results['abstracts-retrieval-response']['coredata'].get('article-number')),\n",
    "                          description=results['abstracts-retrieval-response']['coredata']['dc:description'],   \n",
    "                          date=results['abstracts-retrieval-response']['coredata']['prism:coverDate'],\n",
    "                          doi='doi:' + results['abstracts-retrieval-response']['coredata']['prism:doi'],\n",
    "                          cites=int(results['abstracts-retrieval-response']['coredata']['citedby-count'])).split(\"spl*\")\n",
    "    \n",
    "    return(metadata)\n",
    "    #'''\n",
    "\n",
    "#testing\n",
    "metadata = get_article_info('SCOPUS_ID:85014623213')\n",
    "print(metadata) #All metadata\n",
    "#print(metadata[1]) #Gets abstract\n"
   ]
  },
  {
   "cell_type": "markdown",
   "metadata": {},
   "source": [
    "3)Ranking algorithm"
   ]
  },
  {
   "cell_type": "code",
   "execution_count": null,
   "metadata": {
    "collapsed": true
   },
   "outputs": [],
   "source": [
    "#Ranking Algorithm"
   ]
  },
  {
   "cell_type": "markdown",
   "metadata": {},
   "source": [
    "4)Store in dictionary"
   ]
  },
  {
   "cell_type": "code",
   "execution_count": null,
   "metadata": {
    "collapsed": true
   },
   "outputs": [],
   "source": [
    "#Store ranked papers in dictionary"
   ]
  }
 ],
 "metadata": {
  "anaconda-cloud": {},
  "kernelspec": {
   "display_name": "Python [default]",
   "language": "python",
   "name": "python3"
  },
  "language_info": {
   "codemirror_mode": {
    "name": "ipython",
    "version": 3
   },
   "file_extension": ".py",
   "mimetype": "text/x-python",
   "name": "python",
   "nbconvert_exporter": "python",
   "pygments_lexer": "ipython3",
   "version": "3.5.2"
  }
 },
 "nbformat": 4,
 "nbformat_minor": 0
}
